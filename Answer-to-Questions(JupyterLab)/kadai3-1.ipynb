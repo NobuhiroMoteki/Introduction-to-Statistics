{
 "cells": [
  {
   "cell_type": "markdown",
   "metadata": {},
   "source": [
    "## 課題3-1 回答例"
   ]
  },
  {
   "cell_type": "code",
   "execution_count": 1,
   "metadata": {},
   "outputs": [],
   "source": [
    "import numpy as np\n",
    "from scipy import stats\n",
    "import matplotlib.pyplot as plt"
   ]
  },
  {
   "cell_type": "code",
   "execution_count": 2,
   "metadata": {},
   "outputs": [],
   "source": [
    "rng= np.random.default_rng();"
   ]
  },
  {
   "cell_type": "code",
   "execution_count": 3,
   "metadata": {},
   "outputs": [],
   "source": [
    "#データ 例：指数分布(母平均beta=1)\n",
    "pop_mean=1.0\n",
    "beta=pop_mean\n",
    "N=10 # sample size\n",
    "x= rng.exponential(scale=beta, size=N); # 観測データ "
   ]
  },
  {
   "cell_type": "code",
   "execution_count": 4,
   "metadata": {},
   "outputs": [],
   "source": [
    "B=50000\n",
    "rbs= np.empty(B)\n",
    "for i_bs in range(0,B):\n",
    "    xbs= rng.choice(x, size=N, replace=True) # BS sample of x\n",
    "    rbs[i_bs]= np.mean(xbs) # BS sample of R (この例では統計量Rは標本平均としている)"
   ]
  },
  {
   "cell_type": "code",
   "execution_count": 5,
   "metadata": {},
   "outputs": [
    {
     "name": "stdout",
     "output_type": "stream",
     "text": [
      "0.46946518961390904 2.086232570539578\n"
     ]
    }
   ],
   "source": [
    "rbs= np.sort(rbs)\n",
    "alpha=0.05\n",
    "L=int(alpha/2*B)\n",
    "U=int((1-alpha/2)*B)\n",
    "R_expect_l= rbs[L]\n",
    "R_expect_u= rbs[U]\n",
    "print(R_expect_l,R_expect_u) # Bootstrap Percentile 法の区間推定結果"
   ]
  },
  {
   "cell_type": "markdown",
   "metadata": {},
   "source": [
    "### 比較参考：正規母集団を仮定した解析的な区間推定"
   ]
  },
  {
   "cell_type": "code",
   "execution_count": 6,
   "metadata": {},
   "outputs": [
    {
     "name": "stdout",
     "output_type": "stream",
     "text": [
      "0.16122674191520336 2.1614568379440593\n"
     ]
    }
   ],
   "source": [
    "tau_l= stats.t.ppf(q=alpha/2, df=N-1) # t分布の下側境界\n",
    "tau_u= stats.t.ppf(q=1-alpha/2, df=N-1) # t分布の上側境界\n",
    "# 信頼水準alphaの母平均の区間推定\n",
    "x_popmean_low= np.mean(x)-tau_u*np.sqrt(np.var(x,ddof=1)/N)\n",
    "x_popmean_up= np.mean(x)-tau_l*np.sqrt(np.var(x,ddof=1)/N)\n",
    "print(x_popmean_low, x_popmean_up)"
   ]
  },
  {
   "cell_type": "code",
   "execution_count": 7,
   "metadata": {},
   "outputs": [
    {
     "data": {
      "text/plain": [
       "<matplotlib.legend.Legend at 0x1e70b178790>"
      ]
     },
     "execution_count": 7,
     "metadata": {},
     "output_type": "execute_result"
    },
    {
     "data": {
      "image/png": "[encoded data removed]",
      "text/plain": [
       "<Figure size 432x288 with 1 Axes>"
      ]
     },
     "metadata": {
      "needs_background": "light"
     },
     "output_type": "display_data"
    }
   ],
   "source": [
    "plt.hist(x, bins=50, range=(0,3*beta), density=True, alpha=0.25)\n",
    "plt.plot([R_expect_l,R_expect_u],[1,1],label=\"BS-percentrile\")\n",
    "plt.plot([x_popmean_low,x_popmean_up],[0.5,0.5],label=\"Normal\")\n",
    "plt.legend(loc='upper right')"
   ]
  }
 ],
 "metadata": {
  "kernelspec": {
   "display_name": "Python 3",
   "language": "python",
   "name": "python3"
  },
  "language_info": {
   "codemirror_mode": {
    "name": "ipython",
    "version": 3
   },
   "file_extension": ".py",
   "mimetype": "text/x-python",
   "name": "python",
   "nbconvert_exporter": "python",
   "pygments_lexer": "ipython3",
   "version": "3.8.5"
  }
 },
 "nbformat": 4,
 "nbformat_minor": 4
}
