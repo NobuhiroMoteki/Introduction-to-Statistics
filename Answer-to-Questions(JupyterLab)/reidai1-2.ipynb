{
 "cells": [
  {
   "cell_type": "markdown",
   "metadata": {},
   "source": [
    "## 基礎演習II 統計・多変量解析　例題1-2"
   ]
  },
  {
   "cell_type": "code",
   "execution_count": 1,
   "metadata": {},
   "outputs": [],
   "source": [
    "import math"
   ]
  },
  {
   "cell_type": "markdown",
   "metadata": {},
   "source": [
    "#### ニュートン法でλを求める"
   ]
  },
  {
   "cell_type": "code",
   "execution_count": 2,
   "metadata": {},
   "outputs": [
    {
     "name": "stdout",
     "output_type": "stream",
     "text": [
      "lam  = 2.02e+00\n"
     ]
    }
   ],
   "source": [
    "eps= 1e-6  #収束判定条件\n",
    "delta= 1 #残差の初期値\n",
    "\n",
    "x1 = 2.0 #解の初期値\n",
    "\n",
    "while delta > eps :\n",
    "    s= 0.4*math.exp(x1)-x1-1\n",
    "    t= 0.4*math.exp(x1)-1\n",
    "    x2= x1-s/t\n",
    "    delta= abs(x2-x1)\n",
    "    x1= x2\n",
    "lam = x1\n",
    "print(\"lam  = {:.2e}\".format(lam))"
   ]
  },
  {
   "cell_type": "markdown",
   "metadata": {},
   "source": [
    "#### 放散虫化石の数密度を計算"
   ]
  },
  {
   "cell_type": "code",
   "execution_count": 3,
   "metadata": {},
   "outputs": [
    {
     "name": "stdout",
     "output_type": "stream",
     "text": [
      "n= 2.02e+08\n"
     ]
    }
   ],
   "source": [
    "r= 50e-6 # [m]放散虫の半径\n",
    "S= 1e-4 # [m2]薄片の断面積\n",
    "\n",
    "n= lam/(2*r*S) # 数密度 [個/m3]\n",
    "print(\"n= {:.2e}\".format(n))"
   ]
  },
  {
   "cell_type": "code",
   "execution_count": null,
   "metadata": {},
   "outputs": [],
   "source": []
  }
 ],
 "metadata": {
  "kernelspec": {
   "display_name": "Python 3",
   "language": "python",
   "name": "python3"
  },
  "language_info": {
   "codemirror_mode": {
    "name": "ipython",
    "version": 3
   },
   "file_extension": ".py",
   "mimetype": "text/x-python",
   "name": "python",
   "nbconvert_exporter": "python",
   "pygments_lexer": "ipython3",
   "version": "3.8.5"
  }
 },
 "nbformat": 4,
 "nbformat_minor": 4
}
