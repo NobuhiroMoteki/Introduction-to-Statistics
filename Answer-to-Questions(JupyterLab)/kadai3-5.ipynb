{
 "cells": [
  {
   "cell_type": "markdown",
   "metadata": {},
   "source": [
    "## 課題3-5 回答例"
   ]
  },
  {
   "cell_type": "code",
   "execution_count": 1,
   "metadata": {},
   "outputs": [],
   "source": [
    "import numpy as np\n",
    "from scipy import stats\n",
    "import matplotlib.pyplot as plt\n",
    "import pandas as pd"
   ]
  },
  {
   "cell_type": "code",
   "execution_count": 2,
   "metadata": {},
   "outputs": [],
   "source": [
    "rng= np.random.default_rng();"
   ]
  },
  {
   "cell_type": "code",
   "execution_count": 3,
   "metadata": {},
   "outputs": [],
   "source": [
    "df = pd.read_csv('SampleData.csv')  #csvデータをDataFrameへ読み込み\n",
    "\n",
    "x= df['MaxHourPr_Tokyo'].values  #DataFrameの指定列を1次元numpy配列xに変換\n",
    "y= df['MaxHourPr_Maebashi'].values  #DataFrameの指定列を1次元numpy配列xに変換\n",
    "\n",
    "N1=len(x)\n",
    "N2=len(y)"
   ]
  },
  {
   "cell_type": "code",
   "execution_count": 4,
   "metadata": {},
   "outputs": [
    {
     "data": {
      "text/plain": [
       "<matplotlib.legend.Legend at 0x28db8deec10>"
      ]
     },
     "execution_count": 4,
     "metadata": {},
     "output_type": "execute_result"
    },
    {
     "data": {
      "image/png": "[encoded data removed]",
      "text/plain": [
       "<Figure size 432x288 with 1 Axes>"
      ]
     },
     "metadata": {
      "needs_background": "light"
     },
     "output_type": "display_data"
    }
   ],
   "source": [
    "plt.hist(x, density=False, alpha=0.25, label=\"TK\")\n",
    "plt.hist(y, density=False, alpha=0.25, label=\"MB\")\n",
    "plt.legend(loc='upper right')"
   ]
  },
  {
   "cell_type": "code",
   "execution_count": 5,
   "metadata": {},
   "outputs": [],
   "source": [
    "r= np.mean(x)-np.mean(y) # この例では統計量RはX,Yの標本平均の差とした\n",
    "z= np.append(x,y)"
   ]
  },
  {
   "cell_type": "code",
   "execution_count": 6,
   "metadata": {},
   "outputs": [],
   "source": [
    "B=50000\n",
    "rp= np.empty(B)\n",
    "for j in range(0,B): \n",
    "    rng.shuffle(z)\n",
    "    xp= z[0:N1]\n",
    "    yp= z[N1:N1+N2]\n",
    "    rp[j]= np.mean(xp)-np.mean(yp) # この例では統計量RはX,Yの標本平均の差とした"
   ]
  },
  {
   "cell_type": "code",
   "execution_count": 7,
   "metadata": {},
   "outputs": [
    {
     "name": "stdout",
     "output_type": "stream",
     "text": [
      "p value = 0.15284\n"
     ]
    }
   ],
   "source": [
    "if r > 0:\n",
    "    pval= np.count_nonzero(rp > r)/B\n",
    "else:\n",
    "    pval= np.count_nonzero(rp < r)/B\n",
    "\n",
    "print(\"p value =\", pval)"
   ]
  },
  {
   "cell_type": "code",
   "execution_count": 8,
   "metadata": {},
   "outputs": [
    {
     "data": {
      "text/plain": [
       "<matplotlib.collections.PathCollection at 0x28dba14a280>"
      ]
     },
     "execution_count": 8,
     "metadata": {},
     "output_type": "execute_result"
    },
    {
     "data": {
      "image/png": "[encoded data removed]",
      "text/plain": [
       "<Figure size 432x288 with 1 Axes>"
      ]
     },
     "metadata": {
      "needs_background": "light"
     },
     "output_type": "display_data"
    }
   ],
   "source": [
    "plt.hist(rp,bins=100,density=True,alpha=0.25) #帰無仮説が正しい（差がない）ときのRの確率密度分布\n",
    "plt.scatter(r,0,color=\"red\",marker=\"d\",s=100) # Rの実現値の位置"
   ]
  },
  {
   "cell_type": "code",
   "execution_count": null,
   "metadata": {},
   "outputs": [],
   "source": []
  }
 ],
 "metadata": {
  "kernelspec": {
   "display_name": "Python 3",
   "language": "python",
   "name": "python3"
  },
  "language_info": {
   "codemirror_mode": {
    "name": "ipython",
    "version": 3
   },
   "file_extension": ".py",
   "mimetype": "text/x-python",
   "name": "python",
   "nbconvert_exporter": "python",
   "pygments_lexer": "ipython3",
   "version": "3.8.5"
  }
 },
 "nbformat": 4,
 "nbformat_minor": 4
}
