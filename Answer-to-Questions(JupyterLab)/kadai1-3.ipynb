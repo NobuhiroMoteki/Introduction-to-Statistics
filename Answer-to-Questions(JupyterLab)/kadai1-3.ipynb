{
 "cells": [
  {
   "cell_type": "markdown",
   "metadata": {},
   "source": [
    "## 課題1-3 回答例"
   ]
  },
  {
   "cell_type": "code",
   "execution_count": 2,
   "metadata": {},
   "outputs": [],
   "source": [
    "import math"
   ]
  },
  {
   "cell_type": "markdown",
   "metadata": {},
   "source": [
    "#### sin(x)の数値積分"
   ]
  },
  {
   "cell_type": "code",
   "execution_count": 3,
   "metadata": {},
   "outputs": [
    {
     "name": "stdout",
     "output_type": "stream",
     "text": [
      "sum  = 1.999998355065687905\n"
     ]
    }
   ],
   "source": [
    "#積分区間\n",
    "a= 0  # 下限\n",
    "b= math.pi # 上限\n",
    "\n",
    "n= 1000; #分割区間数\n",
    "\n",
    "dx= (b-a)/float(n)\n",
    "\n",
    "sum= 0\n",
    "x= a\n",
    "for i in range(n):\n",
    "    sum += math.sin(x)*dx\n",
    "    x += dx\n",
    "   \n",
    "print(\"sum  = {:.18f}\".format(sum))"
   ]
  },
  {
   "cell_type": "code",
   "execution_count": null,
   "metadata": {},
   "outputs": [],
   "source": []
  }
 ],
 "metadata": {
  "kernelspec": {
   "display_name": "Python 3",
   "language": "python",
   "name": "python3"
  },
  "language_info": {
   "codemirror_mode": {
    "name": "ipython",
    "version": 3
   },
   "file_extension": ".py",
   "mimetype": "text/x-python",
   "name": "python",
   "nbconvert_exporter": "python",
   "pygments_lexer": "ipython3",
   "version": "3.8.5"
  }
 },
 "nbformat": 4,
 "nbformat_minor": 4
}
