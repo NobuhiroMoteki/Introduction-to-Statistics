{
 "cells": [
  {
   "cell_type": "markdown",
   "metadata": {},
   "source": [
    "## 課題1-5 回答例"
   ]
  },
  {
   "cell_type": "code",
   "execution_count": 1,
   "metadata": {},
   "outputs": [],
   "source": [
    "import math\n",
    "import numpy as np\n",
    "import matplotlib.pyplot as plt"
   ]
  },
  {
   "cell_type": "markdown",
   "metadata": {},
   "source": [
    "##### 区間[－π, π]の一様乱数を生成するプログラムを作り，発生させた10000個の乱数についてヒストグラムを描いて，おおよそ一様であることを確認せよ。"
   ]
  },
  {
   "cell_type": "code",
   "execution_count": 2,
   "metadata": {},
   "outputs": [],
   "source": [
    "rng= np.random.default_rng();"
   ]
  },
  {
   "cell_type": "code",
   "execution_count": 3,
   "metadata": {},
   "outputs": [],
   "source": [
    "a= -math.pi  # 下限\n",
    "b= math.pi # 上限\n",
    "n= 10000\n",
    "x= np.zeros(n)\n",
    "for i in range(n): \n",
    "    x[i]= (b-a)*rng.random()+a\n"
   ]
  },
  {
   "cell_type": "code",
   "execution_count": 4,
   "metadata": {},
   "outputs": [
    {
     "data": {
      "text/plain": [
       "(array([ 991.,  962., 1051., 1020., 1000.,  974.,  986.,  999.,  993.,\n",
       "        1024.]),\n",
       " array([-3.14090922e+00, -2.51267445e+00, -1.88443969e+00, -1.25620492e+00,\n",
       "        -6.27970155e-01,  2.64610934e-04,  6.28499377e-01,  1.25673414e+00,\n",
       "         1.88496891e+00,  2.51320368e+00,  3.14143844e+00]),\n",
       " [<matplotlib.patches.Polygon at 0x1e447131850>])"
      ]
     },
     "execution_count": 4,
     "metadata": {},
     "output_type": "execute_result"
    },
    {
     "data": {
      "image/png": "[encoded data removed]",
      "text/plain": [
       "<Figure size 432x288 with 1 Axes>"
      ]
     },
     "metadata": {
      "needs_background": "light"
     },
     "output_type": "display_data"
    }
   ],
   "source": [
    "plt.hist(x,density=False,histtype='step')"
   ]
  },
  {
   "cell_type": "code",
   "execution_count": null,
   "metadata": {},
   "outputs": [],
   "source": []
  }
 ],
 "metadata": {
  "kernelspec": {
   "display_name": "Python 3",
   "language": "python",
   "name": "python3"
  },
  "language_info": {
   "codemirror_mode": {
    "name": "ipython",
    "version": 3
   },
   "file_extension": ".py",
   "mimetype": "text/x-python",
   "name": "python",
   "nbconvert_exporter": "python",
   "pygments_lexer": "ipython3",
   "version": "3.8.5"
  }
 },
 "nbformat": 4,
 "nbformat_minor": 4
}
