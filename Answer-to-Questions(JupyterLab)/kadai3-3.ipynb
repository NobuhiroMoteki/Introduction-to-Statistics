{
 "cells": [
  {
   "cell_type": "markdown",
   "metadata": {},
   "source": [
    "## 課題3-3 回答例"
   ]
  },
  {
   "cell_type": "code",
   "execution_count": 1,
   "metadata": {},
   "outputs": [],
   "source": [
    "import numpy as np\n",
    "from scipy import stats\n",
    "import matplotlib.pyplot as plt\n",
    "import pandas as pd"
   ]
  },
  {
   "cell_type": "code",
   "execution_count": 2,
   "metadata": {},
   "outputs": [],
   "source": [
    "rng= np.random.default_rng();"
   ]
  },
  {
   "cell_type": "code",
   "execution_count": 3,
   "metadata": {},
   "outputs": [],
   "source": [
    "df = pd.read_csv('SampleData.csv')  #csvデータをDataFrameへ読み込み\n",
    "\n",
    "df= df[df['Year']>=1951]  #2000-2021年のデータ\n",
    "\n",
    "x= df['Pr_Maebashi'].values  #DataFrameの指定列を1次元numpy配列xに変換\n",
    "\n",
    "N=len(x)"
   ]
  },
  {
   "cell_type": "code",
   "execution_count": 4,
   "metadata": {},
   "outputs": [
    {
     "name": "stdout",
     "output_type": "stream",
     "text": [
      "1154.746857936175 1257.8739764279137\n"
     ]
    }
   ],
   "source": [
    "B=20000\n",
    "K= 25\n",
    "r= np.mean(x) #(この例では統計量Rは標本平均としている)\n",
    "rbs= np.empty(B)\n",
    "tbs= np.empty(B)\n",
    "for j in range(0,B):\n",
    "    xbs= rng.choice(x, size=N, replace=True) # BS sample of x\n",
    "    rbs[j]= np.mean(xbs) # BS sample of R (この例では統計量Rは標本平均としている)\n",
    "    rbsbs= np.empty(K)\n",
    "    for k in range(0,K):\n",
    "        xbsbs= rng.choice(xbs, size=N, replace=True)\n",
    "        rbsbs[k]= np.mean(xbsbs)  # BSBS sample of R (この例では統計量Rは標本平均としている)\n",
    "    se_rbs= np.std(rbsbs,ddof=1)  # standard error of rbs[j]\n",
    "    tbs[j]= (rbs[j]-r)/se_rbs # Bootstrap t value\n",
    "se_r= np.std(rbs,ddof=1) # standard error of r\n",
    "\n",
    "tbs= np.sort(tbs)\n",
    "alpha= 0.05\n",
    "L= int(alpha/2*B)\n",
    "U= int((1-alpha/2)*B)\n",
    "tbs_l= tbs[L]\n",
    "tbs_u= tbs[U]\n",
    "R_expect_l_BSt= r-tbs_u*se_r\n",
    "R_expect_u_BSt= r-tbs_l*se_r\n",
    "print(R_expect_l_BSt,R_expect_u_BSt) # Bootstrap t 法の区間推定結果"
   ]
  },
  {
   "cell_type": "code",
   "execution_count": 5,
   "metadata": {},
   "outputs": [
    {
     "name": "stdout",
     "output_type": "stream",
     "text": [
      "1157.9357142857143 1254.4185714285716\n"
     ]
    }
   ],
   "source": [
    "B=20000\n",
    "rbs= np.empty(B)\n",
    "for i_bs in range(0,B):\n",
    "    xbs= rng.choice(x, size=N, replace=True) # BS sample of x\n",
    "    rbs[i_bs]= np.mean(xbs) # BS sample of R (この例では統計量Rは標本平均としている)\n",
    "rbs= np.sort(rbs)\n",
    "alpha=0.05\n",
    "L=int(alpha/2*B)\n",
    "U=int((1-alpha/2)*B)\n",
    "R_expect_l_BSp= rbs[L]\n",
    "R_expect_u_BSp= rbs[U]\n",
    "print(R_expect_l_BSp,R_expect_u_BSp) # Bootstrap Percentile 法の区間推定結果"
   ]
  },
  {
   "cell_type": "markdown",
   "metadata": {},
   "source": [
    "### 比較参考：正規母集団を仮定した解析的な区間推定"
   ]
  },
  {
   "cell_type": "code",
   "execution_count": 6,
   "metadata": {},
   "outputs": [
    {
     "name": "stdout",
     "output_type": "stream",
     "text": [
      "1155.880850487176 1255.019149512824\n"
     ]
    }
   ],
   "source": [
    "tau_l= stats.t.ppf(q=alpha/2, df=N-1) # t分布の下側境界\n",
    "tau_u= stats.t.ppf(q=1-alpha/2, df=N-1) # t分布の上側境界\n",
    "# 信頼水準alphaの母平均の区間推定\n",
    "x_popmean_low= np.mean(x)-tau_u*np.sqrt(np.var(x,ddof=1)/N)\n",
    "x_popmean_up= np.mean(x)-tau_l*np.sqrt(np.var(x,ddof=1)/N)\n",
    "print(x_popmean_low, x_popmean_up)"
   ]
  },
  {
   "cell_type": "code",
   "execution_count": 7,
   "metadata": {},
   "outputs": [
    {
     "data": {
      "text/plain": [
       "<matplotlib.legend.Legend at 0x185a8a262b0>"
      ]
     },
     "execution_count": 7,
     "metadata": {},
     "output_type": "execute_result"
    },
    {
     "data": {
      "image/png": "[encoded data removed]",
      "text/plain": [
       "<Figure size 432x288 with 1 Axes>"
      ]
     },
     "metadata": {
      "needs_background": "light"
     },
     "output_type": "display_data"
    }
   ],
   "source": [
    "plt.hist(x, density=False, alpha=0.25)\n",
    "plt.plot([R_expect_l_BSp,R_expect_u_BSp],[1,1],label=\"BS-percentile\")\n",
    "plt.plot([R_expect_l_BSt,R_expect_u_BSt],[0.75,0.75],label=\"BSt\")\n",
    "plt.plot([x_popmean_low,x_popmean_up],[0.5,0.5],label=\"Normal\")\n",
    "plt.legend(loc='upper right')"
   ]
  },
  {
   "cell_type": "code",
   "execution_count": null,
   "metadata": {},
   "outputs": [],
   "source": []
  }
 ],
 "metadata": {
  "kernelspec": {
   "display_name": "Python 3",
   "language": "python",
   "name": "python3"
  },
  "language_info": {
   "codemirror_mode": {
    "name": "ipython",
    "version": 3
   },
   "file_extension": ".py",
   "mimetype": "text/x-python",
   "name": "python",
   "nbconvert_exporter": "python",
   "pygments_lexer": "ipython3",
   "version": "3.8.5"
  }
 },
 "nbformat": 4,
 "nbformat_minor": 4
}
