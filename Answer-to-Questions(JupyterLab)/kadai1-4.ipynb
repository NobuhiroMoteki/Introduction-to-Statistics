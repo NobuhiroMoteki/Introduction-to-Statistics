{
 "cells": [
  {
   "cell_type": "markdown",
   "metadata": {},
   "source": [
    "## 課題1-4 回答例"
   ]
  },
  {
   "cell_type": "code",
   "execution_count": 3,
   "metadata": {},
   "outputs": [],
   "source": [
    "import math"
   ]
  },
  {
   "cell_type": "markdown",
   "metadata": {},
   "source": [
    "#### 自由度v=10のt分布の規格化定数kを数値積分で求める"
   ]
  },
  {
   "cell_type": "code",
   "execution_count": 4,
   "metadata": {},
   "outputs": [
    {
     "name": "stdout",
     "output_type": "stream",
     "text": [
      "k  = 0.389\n"
     ]
    }
   ],
   "source": [
    "#積分区間\n",
    "a= -25  # 下限\n",
    "b= 25 # 上限\n",
    "v= 10\n",
    "\n",
    "n= 1000; #分割区間数\n",
    "\n",
    "dx= (b-a)/float(n)\n",
    "\n",
    "sum= 0\n",
    "x= a\n",
    "for i in range(n):\n",
    "    sum += (1+x**2/v)**(-(v+1)/2)*dx  # 注：python3における整数同士の割り算では、実数同士の割り算の結果が返される (fortranやCなどと異なる）。\n",
    "    x += dx\n",
    "            \n",
    "k= 1/sum\n",
    "print(\"k  = {:.3f}\".format(k))"
   ]
  },
  {
   "cell_type": "code",
   "execution_count": 5,
   "metadata": {},
   "outputs": [
    {
     "name": "stdout",
     "output_type": "stream",
     "text": [
      "k_exact  = 0.389\n"
     ]
    }
   ],
   "source": [
    "k_exact = 1/(v*math.pi)**0.5*math.gamma((v+1)/2)/math.gamma(v/2) #規格化定数の厳密な式\n",
    "print(\"k_exact  = {:.3f}\".format(k_exact))"
   ]
  },
  {
   "cell_type": "code",
   "execution_count": null,
   "metadata": {},
   "outputs": [],
   "source": []
  }
 ],
 "metadata": {
  "kernelspec": {
   "display_name": "Python 3",
   "language": "python",
   "name": "python3"
  },
  "language_info": {
   "codemirror_mode": {
    "name": "ipython",
    "version": 3
   },
   "file_extension": ".py",
   "mimetype": "text/x-python",
   "name": "python",
   "nbconvert_exporter": "python",
   "pygments_lexer": "ipython3",
   "version": "3.8.5"
  }
 },
 "nbformat": 4,
 "nbformat_minor": 4
}
