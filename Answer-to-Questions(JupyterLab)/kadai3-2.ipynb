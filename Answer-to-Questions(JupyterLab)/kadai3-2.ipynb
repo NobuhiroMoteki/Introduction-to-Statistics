{
 "cells": [
  {
   "cell_type": "markdown",
   "metadata": {},
   "source": [
    "## 課題3-2 回答例"
   ]
  },
  {
   "cell_type": "code",
   "execution_count": 1,
   "metadata": {},
   "outputs": [],
   "source": [
    "import numpy as np\n",
    "from scipy import stats\n",
    "import matplotlib.pyplot as plt"
   ]
  },
  {
   "cell_type": "code",
   "execution_count": 2,
   "metadata": {},
   "outputs": [],
   "source": [
    "rng= np.random.default_rng();"
   ]
  },
  {
   "cell_type": "code",
   "execution_count": 3,
   "metadata": {},
   "outputs": [],
   "source": [
    "#データ 例：指数分布(母平均beta=1)\n",
    "pop_mean=1.0\n",
    "beta=pop_mean\n",
    "N=100# sample size\n",
    "x= rng.exponential(scale=beta, size=N); # 観測データ "
   ]
  },
  {
   "cell_type": "code",
   "execution_count": 4,
   "metadata": {},
   "outputs": [],
   "source": [
    "B=20000\n",
    "K= 25\n",
    "r= np.mean(x) #(この例では統計量Rは標本平均としている)\n",
    "rbs= np.empty(B)\n",
    "tbs= np.empty(B)\n",
    "for j in range(0,B):\n",
    "    xbs= rng.choice(x, size=N, replace=True) # BS sample of x\n",
    "    rbs[j]= np.mean(xbs) # BS sample of R (この例では統計量Rは標本平均としている)\n",
    "    rbsbs= np.empty(K)\n",
    "    for k in range(0,K):\n",
    "        xbsbs= rng.choice(xbs, size=N, replace=True)\n",
    "        rbsbs[k]= np.mean(xbsbs)  # BSBS sample of R (この例では統計量Rは標本平均としている)\n",
    "    se_rbs= np.std(rbsbs,ddof=1)  # standard error of rbs[j]\n",
    "    tbs[j]= (rbs[j]-r)/se_rbs # Bootstrap t value\n",
    "se_r= np.std(rbs,ddof=1) # standard error of r"
   ]
  },
  {
   "cell_type": "code",
   "execution_count": 5,
   "metadata": {},
   "outputs": [
    {
     "name": "stdout",
     "output_type": "stream",
     "text": [
      "0.6912221038628781 1.0698442958255145\n"
     ]
    }
   ],
   "source": [
    "tbs= np.sort(tbs)\n",
    "alpha= 0.05\n",
    "L= int(alpha/2*B)\n",
    "U= int((1-alpha/2)*B)\n",
    "tbs_l= tbs[L]\n",
    "tbs_u= tbs[U]\n",
    "R_expect_l= r-tbs_u*se_r\n",
    "R_expect_u= r-tbs_l*se_r\n",
    "print(R_expect_l,R_expect_u) # Bootstrap t 法の区間推定結果"
   ]
  },
  {
   "cell_type": "markdown",
   "metadata": {},
   "source": [
    "### 比較参考：正規母集団を仮定した解析的な区間推定"
   ]
  },
  {
   "cell_type": "code",
   "execution_count": 6,
   "metadata": {},
   "outputs": [
    {
     "name": "stdout",
     "output_type": "stream",
     "text": [
      "0.6847193238763434 1.0363127405176662\n"
     ]
    }
   ],
   "source": [
    "tau_l= stats.t.ppf(q=alpha/2, df=N-1) # t分布の下側境界\n",
    "tau_u= stats.t.ppf(q=1-alpha/2, df=N-1) # t分布の上側境界\n",
    "# 信頼水準alphaの母平均の区間推定\n",
    "x_popmean_low= np.mean(x)-tau_u*np.sqrt(np.var(x,ddof=1)/N)\n",
    "x_popmean_up= np.mean(x)-tau_l*np.sqrt(np.var(x,ddof=1)/N)\n",
    "print(x_popmean_low, x_popmean_up)"
   ]
  },
  {
   "cell_type": "code",
   "execution_count": 7,
   "metadata": {},
   "outputs": [
    {
     "data": {
      "text/plain": [
       "<matplotlib.legend.Legend at 0x22caa64de20>"
      ]
     },
     "execution_count": 7,
     "metadata": {},
     "output_type": "execute_result"
    },
    {
     "data": {
      "image/png": "[encoded data removed]",
      "text/plain": [
       "<Figure size 432x288 with 1 Axes>"
      ]
     },
     "metadata": {
      "needs_background": "light"
     },
     "output_type": "display_data"
    }
   ],
   "source": [
    "plt.hist(x, bins=50, range=(0,3*beta), density=True, alpha=0.25)\n",
    "plt.plot([R_expect_l,R_expect_u],[1,1],label=\"BSt\")\n",
    "plt.plot([x_popmean_low,x_popmean_up],[0.5,0.5],label=\"Normal\")\n",
    "plt.legend(loc='upper right')"
   ]
  },
  {
   "cell_type": "code",
   "execution_count": null,
   "metadata": {},
   "outputs": [],
   "source": []
  }
 ],
 "metadata": {
  "kernelspec": {
   "display_name": "Python 3",
   "language": "python",
   "name": "python3"
  },
  "language_info": {
   "codemirror_mode": {
    "name": "ipython",
    "version": 3
   },
   "file_extension": ".py",
   "mimetype": "text/x-python",
   "name": "python",
   "nbconvert_exporter": "python",
   "pygments_lexer": "ipython3",
   "version": "3.8.5"
  }
 },
 "nbformat": 4,
 "nbformat_minor": 4
}
