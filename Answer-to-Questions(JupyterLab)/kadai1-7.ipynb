{
 "cells": [
  {
   "cell_type": "markdown",
   "metadata": {},
   "source": [
    "## 課題1-7 回答例"
   ]
  },
  {
   "cell_type": "code",
   "execution_count": 1,
   "metadata": {},
   "outputs": [],
   "source": [
    "import numpy as np\n",
    "import matplotlib.pyplot as plt"
   ]
  },
  {
   "cell_type": "code",
   "execution_count": 2,
   "metadata": {},
   "outputs": [],
   "source": [
    "rng= np.random.default_rng();"
   ]
  },
  {
   "cell_type": "code",
   "execution_count": 3,
   "metadata": {},
   "outputs": [],
   "source": [
    "N= 10000 #データ数N,\n",
    "a,b= -1,1 #一様分布の下限a,上限b\n",
    "\n",
    "x_10,x_100,x_1000= np.empty(N),np.empty(N),np.empty(N)\n",
    "\n",
    "for i in range(N):\n",
    "    x_10[i]= np.mean(rng.uniform(low=a,high=b,size=10))\n",
    "    x_100[i]= np.mean(rng.uniform(low=a,high=b,size=100))\n",
    "    x_1000[i]= np.mean(rng.uniform(low=a,high=b,size=1000))"
   ]
  },
  {
   "cell_type": "code",
   "execution_count": 4,
   "metadata": {},
   "outputs": [
    {
     "data": {
      "text/plain": [
       "<matplotlib.legend.Legend at 0x20732aff790>"
      ]
     },
     "execution_count": 4,
     "metadata": {},
     "output_type": "execute_result"
    },
    {
     "data": {
      "image/png": "[encoded data removed]",
      "text/plain": [
       "<Figure size 432x288 with 1 Axes>"
      ]
     },
     "metadata": {
      "needs_background": "light"
     },
     "output_type": "display_data"
    }
   ],
   "source": [
    "#データのヒストグラム\n",
    "plt.hist([x_10,x_100,x_1000],bins= 50,density=True,histtype='step',label=[\"10s-mean\",\"100s-mean\",\"1000s-mean\"])\n",
    "plt.legend(loc='upper left')"
   ]
  },
  {
   "cell_type": "code",
   "execution_count": 5,
   "metadata": {},
   "outputs": [
    {
     "data": {
      "text/plain": [
       "(0.03266843296176961, 0.0033769728663821637, 0.0003328358983454731)"
      ]
     },
     "execution_count": 5,
     "metadata": {},
     "output_type": "execute_result"
    }
   ],
   "source": [
    "#データの不偏分散値\n",
    "np.var(x_10,ddof=1),np.var(x_100,ddof=1),np.var(x_1000,ddof=1)"
   ]
  },
  {
   "cell_type": "code",
   "execution_count": 6,
   "metadata": {},
   "outputs": [
    {
     "data": {
      "text/plain": [
       "(0.9800529888530883, 1.0130918599146492, 0.9985076950364193)"
      ]
     },
     "execution_count": 6,
     "metadata": {},
     "output_type": "execute_result"
    }
   ],
   "source": [
    "#データの不偏分散値とCLT母分散の比（厳密であれば１）\n",
    "popvar_uniform= (b-a)**2/12 \n",
    "np.var(x_10,ddof=1)/(popvar_uniform/10),np.var(x_100,ddof=1)/(popvar_uniform/100),np.var(x_1000,ddof=1)/(popvar_uniform/1000)"
   ]
  },
  {
   "cell_type": "code",
   "execution_count": null,
   "metadata": {},
   "outputs": [],
   "source": []
  }
 ],
 "metadata": {
  "kernelspec": {
   "display_name": "Python 3",
   "language": "python",
   "name": "python3"
  },
  "language_info": {
   "codemirror_mode": {
    "name": "ipython",
    "version": 3
   },
   "file_extension": ".py",
   "mimetype": "text/x-python",
   "name": "python",
   "nbconvert_exporter": "python",
   "pygments_lexer": "ipython3",
   "version": "3.8.5"
  }
 },
 "nbformat": 4,
 "nbformat_minor": 4
}
