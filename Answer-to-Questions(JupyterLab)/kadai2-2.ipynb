{
 "cells": [
  {
   "cell_type": "markdown",
   "metadata": {},
   "source": [
    "## 課題2-2 回答例"
   ]
  },
  {
   "cell_type": "code",
   "execution_count": 7,
   "metadata": {},
   "outputs": [],
   "source": [
    "import numpy as np\n",
    "from scipy import stats\n",
    "import pandas as pd\n",
    "import matplotlib.pyplot as plt"
   ]
  },
  {
   "cell_type": "code",
   "execution_count": 8,
   "metadata": {},
   "outputs": [
    {
     "data": {
      "text/html": [
       "<div>\n",
       "<style scoped>\n",
       "    .dataframe tbody tr th:only-of-type {\n",
       "        vertical-align: middle;\n",
       "    }\n",
       "\n",
       "    .dataframe tbody tr th {\n",
       "        vertical-align: top;\n",
       "    }\n",
       "\n",
       "    .dataframe thead th {\n",
       "        text-align: right;\n",
       "    }\n",
       "</style>\n",
       "<table border=\"1\" class=\"dataframe\">\n",
       "  <thead>\n",
       "    <tr style=\"text-align: right;\">\n",
       "      <th></th>\n",
       "      <th>Year</th>\n",
       "      <th>T_Tokyo</th>\n",
       "      <th>Pr_Tokyo</th>\n",
       "      <th>MaxHourPr_Tokyo</th>\n",
       "      <th>T_Maebashi</th>\n",
       "      <th>Pr_Maebashi</th>\n",
       "      <th>MaxHourPr_Maebashi</th>\n",
       "    </tr>\n",
       "  </thead>\n",
       "  <tbody>\n",
       "    <tr>\n",
       "      <th>60</th>\n",
       "      <td>2011</td>\n",
       "      <td>16.5</td>\n",
       "      <td>1479.5</td>\n",
       "      <td>55.0</td>\n",
       "      <td>14.9</td>\n",
       "      <td>1340.0</td>\n",
       "      <td>38.5</td>\n",
       "    </tr>\n",
       "    <tr>\n",
       "      <th>61</th>\n",
       "      <td>2012</td>\n",
       "      <td>16.3</td>\n",
       "      <td>1570.0</td>\n",
       "      <td>30.0</td>\n",
       "      <td>14.7</td>\n",
       "      <td>1074.0</td>\n",
       "      <td>29.0</td>\n",
       "    </tr>\n",
       "    <tr>\n",
       "      <th>62</th>\n",
       "      <td>2013</td>\n",
       "      <td>17.1</td>\n",
       "      <td>1614.0</td>\n",
       "      <td>49.5</td>\n",
       "      <td>15.2</td>\n",
       "      <td>998.5</td>\n",
       "      <td>35.0</td>\n",
       "    </tr>\n",
       "    <tr>\n",
       "      <th>63</th>\n",
       "      <td>2014</td>\n",
       "      <td>16.6</td>\n",
       "      <td>1808.0</td>\n",
       "      <td>71.5</td>\n",
       "      <td>14.9</td>\n",
       "      <td>1395.5</td>\n",
       "      <td>57.5</td>\n",
       "    </tr>\n",
       "    <tr>\n",
       "      <th>64</th>\n",
       "      <td>2015</td>\n",
       "      <td>16.4</td>\n",
       "      <td>1781.5</td>\n",
       "      <td>34.5</td>\n",
       "      <td>15.6</td>\n",
       "      <td>1232.0</td>\n",
       "      <td>53.0</td>\n",
       "    </tr>\n",
       "    <tr>\n",
       "      <th>65</th>\n",
       "      <td>2016</td>\n",
       "      <td>16.4</td>\n",
       "      <td>1779.0</td>\n",
       "      <td>47.5</td>\n",
       "      <td>15.6</td>\n",
       "      <td>1249.0</td>\n",
       "      <td>38.5</td>\n",
       "    </tr>\n",
       "    <tr>\n",
       "      <th>66</th>\n",
       "      <td>2017</td>\n",
       "      <td>15.8</td>\n",
       "      <td>1430.0</td>\n",
       "      <td>22.5</td>\n",
       "      <td>14.9</td>\n",
       "      <td>1192.5</td>\n",
       "      <td>38.5</td>\n",
       "    </tr>\n",
       "    <tr>\n",
       "      <th>67</th>\n",
       "      <td>2018</td>\n",
       "      <td>16.8</td>\n",
       "      <td>1445.5</td>\n",
       "      <td>38.5</td>\n",
       "      <td>16.1</td>\n",
       "      <td>1046.5</td>\n",
       "      <td>47.5</td>\n",
       "    </tr>\n",
       "    <tr>\n",
       "      <th>68</th>\n",
       "      <td>2019</td>\n",
       "      <td>16.5</td>\n",
       "      <td>1874.0</td>\n",
       "      <td>36.5</td>\n",
       "      <td>15.7</td>\n",
       "      <td>1447.5</td>\n",
       "      <td>49.0</td>\n",
       "    </tr>\n",
       "    <tr>\n",
       "      <th>69</th>\n",
       "      <td>2020</td>\n",
       "      <td>16.5</td>\n",
       "      <td>1590.0</td>\n",
       "      <td>34.5</td>\n",
       "      <td>15.8</td>\n",
       "      <td>1315.5</td>\n",
       "      <td>48.0</td>\n",
       "    </tr>\n",
       "  </tbody>\n",
       "</table>\n",
       "</div>"
      ],
      "text/plain": [
       "    Year  T_Tokyo  Pr_Tokyo  MaxHourPr_Tokyo  T_Maebashi  Pr_Maebashi  \\\n",
       "60  2011     16.5    1479.5             55.0        14.9       1340.0   \n",
       "61  2012     16.3    1570.0             30.0        14.7       1074.0   \n",
       "62  2013     17.1    1614.0             49.5        15.2        998.5   \n",
       "63  2014     16.6    1808.0             71.5        14.9       1395.5   \n",
       "64  2015     16.4    1781.5             34.5        15.6       1232.0   \n",
       "65  2016     16.4    1779.0             47.5        15.6       1249.0   \n",
       "66  2017     15.8    1430.0             22.5        14.9       1192.5   \n",
       "67  2018     16.8    1445.5             38.5        16.1       1046.5   \n",
       "68  2019     16.5    1874.0             36.5        15.7       1447.5   \n",
       "69  2020     16.5    1590.0             34.5        15.8       1315.5   \n",
       "\n",
       "    MaxHourPr_Maebashi  \n",
       "60                38.5  \n",
       "61                29.0  \n",
       "62                35.0  \n",
       "63                57.5  \n",
       "64                53.0  \n",
       "65                38.5  \n",
       "66                38.5  \n",
       "67                47.5  \n",
       "68                49.0  \n",
       "69                48.0  "
      ]
     },
     "execution_count": 8,
     "metadata": {},
     "output_type": "execute_result"
    }
   ],
   "source": [
    "#df = pd.read_csv('SampleData.csv', index_col=0)  #csvデータをDataFrameへ読み込み\n",
    "df = pd.read_csv('SampleData.csv')  #csvデータをDataFrameへ読み込み\n",
    "\n",
    "df= df.tail(10) #末尾のn行の抽出\n",
    "df\n"
   ]
  },
  {
   "cell_type": "code",
   "execution_count": 9,
   "metadata": {},
   "outputs": [
    {
     "data": {
      "text/plain": [
       "array([16.5, 16.3, 17.1, 16.6, 16.4, 16.4, 15.8, 16.8, 16.5, 16.5])"
      ]
     },
     "execution_count": 9,
     "metadata": {},
     "output_type": "execute_result"
    }
   ],
   "source": [
    "x= df['T_Tokyo'].values  #DataFrameの指定列を1次元numpy配列xに変換\n",
    "x"
   ]
  },
  {
   "cell_type": "code",
   "execution_count": 10,
   "metadata": {},
   "outputs": [
    {
     "name": "stdout",
     "output_type": "stream",
     "text": [
      "mean, CI = 16.490, [16.250,16.730]\n"
     ]
    }
   ],
   "source": [
    "N= len(x)\n",
    "alpha= 0.05\n",
    "tau_l= stats.t.ppf(q=alpha/2,df=N-1) #自由度N-1のt分布の下側alpha/2分位値\n",
    "tau_u= -tau_l\n",
    "lb= np.mean(x)-tau_u*(np.var(x,ddof=1)/N)**0.5\n",
    "ub= np.mean(x)-tau_l*(np.var(x,ddof=1)/N)**0.5\n",
    "\n",
    "print(\"mean, CI = {:.3f}, [{:.3f},{:.3f}]\".format(np.mean(x),lb,ub))"
   ]
  },
  {
   "cell_type": "code",
   "execution_count": 11,
   "metadata": {},
   "outputs": [
    {
     "data": {
      "text/plain": [
       "[<matplotlib.lines.Line2D at 0x291a28be250>]"
      ]
     },
     "execution_count": 11,
     "metadata": {},
     "output_type": "execute_result"
    },
    {
     "data": {
      "image/png": "[encoded data removed]",
      "text/plain": [
       "<Figure size 432x288 with 1 Axes>"
      ]
     },
     "metadata": {
      "needs_background": "light"
     },
     "output_type": "display_data"
    }
   ],
   "source": [
    "plt.hist(x, density=True)\n",
    "plt.plot([lb,ub],[0.1,0.1])"
   ]
  },
  {
   "cell_type": "code",
   "execution_count": null,
   "metadata": {},
   "outputs": [],
   "source": []
  }
 ],
 "metadata": {
  "kernelspec": {
   "display_name": "Python 3",
   "language": "python",
   "name": "python3"
  },
  "language_info": {
   "codemirror_mode": {
    "name": "ipython",
    "version": 3
   },
   "file_extension": ".py",
   "mimetype": "text/x-python",
   "name": "python",
   "nbconvert_exporter": "python",
   "pygments_lexer": "ipython3",
   "version": "3.8.5"
  }
 },
 "nbformat": 4,
 "nbformat_minor": 4
}
