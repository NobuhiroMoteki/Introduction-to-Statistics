{
 "cells": [
  {
   "cell_type": "markdown",
   "metadata": {},
   "source": [
    "## 課題2-3 回答例"
   ]
  },
  {
   "cell_type": "code",
   "execution_count": 1,
   "metadata": {},
   "outputs": [],
   "source": [
    "import math\n",
    "import numpy as np\n",
    "from scipy import stats\n",
    "import pandas as pd\n",
    "import matplotlib.pyplot as plt"
   ]
  },
  {
   "cell_type": "code",
   "execution_count": 2,
   "metadata": {},
   "outputs": [],
   "source": [
    "df = pd.read_csv('SampleData.csv')  #csvデータをDataFrameへ読み込み\n",
    "df\n",
    "df_recent= df[df['Year']>=2000]  #2000-2021年のデータ\n",
    "#df_recent"
   ]
  },
  {
   "cell_type": "code",
   "execution_count": 3,
   "metadata": {},
   "outputs": [],
   "source": [
    "df_previous= df[df['Year']<=1999] #1951-1999年のデータ\n",
    "#df_previous"
   ]
  },
  {
   "cell_type": "code",
   "execution_count": 4,
   "metadata": {},
   "outputs": [],
   "source": [
    "x= df_recent['MaxHourPr_Tokyo'].values  #DataFrameの指定列を1次元numpy配列xに変換\n",
    "N=len(x)\n"
   ]
  },
  {
   "cell_type": "code",
   "execution_count": 5,
   "metadata": {},
   "outputs": [
    {
     "data": {
      "text/plain": [
       "39.6"
      ]
     },
     "execution_count": 5,
     "metadata": {},
     "output_type": "execute_result"
    }
   ],
   "source": [
    "#1951-1999年のデータの平均値\n",
    "mu0= np.mean(df_previous['MaxHourPr_Tokyo'].values) \n",
    "mu0"
   ]
  },
  {
   "cell_type": "code",
   "execution_count": 6,
   "metadata": {},
   "outputs": [
    {
     "data": {
      "text/plain": [
       "2.359875154477512"
      ]
     },
     "execution_count": 6,
     "metadata": {},
     "output_type": "execute_result"
    }
   ],
   "source": [
    "#スチューデントのTの実現値\n",
    "tau= (np.mean(x)-mu0)/(np.var(x,ddof=1)/N)**0.5\n",
    "tau"
   ]
  },
  {
   "cell_type": "code",
   "execution_count": 7,
   "metadata": {},
   "outputs": [
    {
     "name": "stdout",
     "output_type": "stream",
     "text": [
      "p val = 2.8562e-02\n"
     ]
    }
   ],
   "source": [
    "## t分布の数値積分によるp値の算出\n",
    "v= N-1 # t分布の自由度\n",
    "k= 1/(v*math.pi)**0.5*math.gamma((v+1)/2)/math.gamma(v/2) #規格化定数の厳密な式\n",
    "\n",
    "#積分区間\n",
    "a= -25 #下限\n",
    "b= 25 # 上限\n",
    "\n",
    "ndiv= 100000; #分割区間数\n",
    "if tau >= 0:\n",
    "    high= b\n",
    "    low= tau\n",
    "else:\n",
    "    high= tau\n",
    "    low= a\n",
    "dt= (high-low)/ndiv\n",
    "\n",
    "sum= 0\n",
    "t= low\n",
    "for i in range(ndiv):\n",
    "    sum += k*(1+t**2/v)**(-(v+1)/2)*dt  # 短冊の和。\n",
    "    t += dt  # x座標の更新\n",
    "p=sum*2 #両側検定なので片側の積分を2倍する\n",
    "print(\"p val = {:.4e}\".format(p))"
   ]
  },
  {
   "cell_type": "code",
   "execution_count": 8,
   "metadata": {},
   "outputs": [
    {
     "data": {
      "text/plain": [
       "Ttest_1sampResult(statistic=2.359875154477512, pvalue=0.02855517083850329)"
      ]
     },
     "execution_count": 8,
     "metadata": {},
     "output_type": "execute_result"
    }
   ],
   "source": [
    "#scipyで答え合わせ\n",
    "stats.ttest_1samp(x,popmean=mu0)"
   ]
  },
  {
   "cell_type": "code",
   "execution_count": null,
   "metadata": {},
   "outputs": [],
   "source": []
  }
 ],
 "metadata": {
  "kernelspec": {
   "display_name": "Python 3",
   "language": "python",
   "name": "python3"
  },
  "language_info": {
   "codemirror_mode": {
    "name": "ipython",
    "version": 3
   },
   "file_extension": ".py",
   "mimetype": "text/x-python",
   "name": "python",
   "nbconvert_exporter": "python",
   "pygments_lexer": "ipython3",
   "version": "3.8.5"
  }
 },
 "nbformat": 4,
 "nbformat_minor": 4
}
