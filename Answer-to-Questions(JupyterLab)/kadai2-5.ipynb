{
 "cells": [
  {
   "cell_type": "markdown",
   "metadata": {},
   "source": [
    "## 課題2-5 回答例"
   ]
  },
  {
   "cell_type": "code",
   "execution_count": 1,
   "metadata": {},
   "outputs": [],
   "source": [
    "import math\n",
    "import numpy as np\n",
    "from scipy import stats\n",
    "import pandas as pd\n",
    "import matplotlib.pyplot as plt"
   ]
  },
  {
   "cell_type": "code",
   "execution_count": 2,
   "metadata": {},
   "outputs": [
    {
     "data": {
      "text/html": [
       "<div>\n",
       "<style scoped>\n",
       "    .dataframe tbody tr th:only-of-type {\n",
       "        vertical-align: middle;\n",
       "    }\n",
       "\n",
       "    .dataframe tbody tr th {\n",
       "        vertical-align: top;\n",
       "    }\n",
       "\n",
       "    .dataframe thead th {\n",
       "        text-align: right;\n",
       "    }\n",
       "</style>\n",
       "<table border=\"1\" class=\"dataframe\">\n",
       "  <thead>\n",
       "    <tr style=\"text-align: right;\">\n",
       "      <th></th>\n",
       "      <th>Year</th>\n",
       "      <th>T_Tokyo</th>\n",
       "      <th>Pr_Tokyo</th>\n",
       "      <th>MaxHourPr_Tokyo</th>\n",
       "      <th>T_Maebashi</th>\n",
       "      <th>Pr_Maebashi</th>\n",
       "      <th>MaxHourPr_Maebashi</th>\n",
       "    </tr>\n",
       "  </thead>\n",
       "  <tbody>\n",
       "    <tr>\n",
       "      <th>0</th>\n",
       "      <td>1951</td>\n",
       "      <td>14.7</td>\n",
       "      <td>1589.8</td>\n",
       "      <td>64.4</td>\n",
       "      <td>13.5</td>\n",
       "      <td>1139.1</td>\n",
       "      <td>35.1</td>\n",
       "    </tr>\n",
       "    <tr>\n",
       "      <th>1</th>\n",
       "      <td>1952</td>\n",
       "      <td>14.6</td>\n",
       "      <td>1640.6</td>\n",
       "      <td>30.9</td>\n",
       "      <td>13.4</td>\n",
       "      <td>1164.1</td>\n",
       "      <td>19.1</td>\n",
       "    </tr>\n",
       "    <tr>\n",
       "      <th>2</th>\n",
       "      <td>1953</td>\n",
       "      <td>14.6</td>\n",
       "      <td>1519.4</td>\n",
       "      <td>33.8</td>\n",
       "      <td>13.3</td>\n",
       "      <td>1274.6</td>\n",
       "      <td>20.3</td>\n",
       "    </tr>\n",
       "    <tr>\n",
       "      <th>3</th>\n",
       "      <td>1954</td>\n",
       "      <td>14.8</td>\n",
       "      <td>1770.7</td>\n",
       "      <td>34.8</td>\n",
       "      <td>13.6</td>\n",
       "      <td>1275.3</td>\n",
       "      <td>47.3</td>\n",
       "    </tr>\n",
       "    <tr>\n",
       "      <th>4</th>\n",
       "      <td>1955</td>\n",
       "      <td>15.5</td>\n",
       "      <td>1553.9</td>\n",
       "      <td>34.7</td>\n",
       "      <td>14.2</td>\n",
       "      <td>1776.6</td>\n",
       "      <td>94.0</td>\n",
       "    </tr>\n",
       "    <tr>\n",
       "      <th>...</th>\n",
       "      <td>...</td>\n",
       "      <td>...</td>\n",
       "      <td>...</td>\n",
       "      <td>...</td>\n",
       "      <td>...</td>\n",
       "      <td>...</td>\n",
       "      <td>...</td>\n",
       "    </tr>\n",
       "    <tr>\n",
       "      <th>65</th>\n",
       "      <td>2016</td>\n",
       "      <td>16.4</td>\n",
       "      <td>1779.0</td>\n",
       "      <td>47.5</td>\n",
       "      <td>15.6</td>\n",
       "      <td>1249.0</td>\n",
       "      <td>38.5</td>\n",
       "    </tr>\n",
       "    <tr>\n",
       "      <th>66</th>\n",
       "      <td>2017</td>\n",
       "      <td>15.8</td>\n",
       "      <td>1430.0</td>\n",
       "      <td>22.5</td>\n",
       "      <td>14.9</td>\n",
       "      <td>1192.5</td>\n",
       "      <td>38.5</td>\n",
       "    </tr>\n",
       "    <tr>\n",
       "      <th>67</th>\n",
       "      <td>2018</td>\n",
       "      <td>16.8</td>\n",
       "      <td>1445.5</td>\n",
       "      <td>38.5</td>\n",
       "      <td>16.1</td>\n",
       "      <td>1046.5</td>\n",
       "      <td>47.5</td>\n",
       "    </tr>\n",
       "    <tr>\n",
       "      <th>68</th>\n",
       "      <td>2019</td>\n",
       "      <td>16.5</td>\n",
       "      <td>1874.0</td>\n",
       "      <td>36.5</td>\n",
       "      <td>15.7</td>\n",
       "      <td>1447.5</td>\n",
       "      <td>49.0</td>\n",
       "    </tr>\n",
       "    <tr>\n",
       "      <th>69</th>\n",
       "      <td>2020</td>\n",
       "      <td>16.5</td>\n",
       "      <td>1590.0</td>\n",
       "      <td>34.5</td>\n",
       "      <td>15.8</td>\n",
       "      <td>1315.5</td>\n",
       "      <td>48.0</td>\n",
       "    </tr>\n",
       "  </tbody>\n",
       "</table>\n",
       "<p>70 rows × 7 columns</p>\n",
       "</div>"
      ],
      "text/plain": [
       "    Year  T_Tokyo  Pr_Tokyo  MaxHourPr_Tokyo  T_Maebashi  Pr_Maebashi  \\\n",
       "0   1951     14.7    1589.8             64.4        13.5       1139.1   \n",
       "1   1952     14.6    1640.6             30.9        13.4       1164.1   \n",
       "2   1953     14.6    1519.4             33.8        13.3       1274.6   \n",
       "3   1954     14.8    1770.7             34.8        13.6       1275.3   \n",
       "4   1955     15.5    1553.9             34.7        14.2       1776.6   \n",
       "..   ...      ...       ...              ...         ...          ...   \n",
       "65  2016     16.4    1779.0             47.5        15.6       1249.0   \n",
       "66  2017     15.8    1430.0             22.5        14.9       1192.5   \n",
       "67  2018     16.8    1445.5             38.5        16.1       1046.5   \n",
       "68  2019     16.5    1874.0             36.5        15.7       1447.5   \n",
       "69  2020     16.5    1590.0             34.5        15.8       1315.5   \n",
       "\n",
       "    MaxHourPr_Maebashi  \n",
       "0                 35.1  \n",
       "1                 19.1  \n",
       "2                 20.3  \n",
       "3                 47.3  \n",
       "4                 94.0  \n",
       "..                 ...  \n",
       "65                38.5  \n",
       "66                38.5  \n",
       "67                47.5  \n",
       "68                49.0  \n",
       "69                48.0  \n",
       "\n",
       "[70 rows x 7 columns]"
      ]
     },
     "execution_count": 2,
     "metadata": {},
     "output_type": "execute_result"
    }
   ],
   "source": [
    "df = pd.read_csv('SampleData.csv')  #csvデータをDataFrameへ読み込み\n",
    "df"
   ]
  },
  {
   "cell_type": "code",
   "execution_count": 3,
   "metadata": {},
   "outputs": [
    {
     "data": {
      "image/png": "[encoded data removed]",
      "text/plain": [
       "<Figure size 432x288 with 1 Axes>"
      ]
     },
     "metadata": {
      "needs_background": "light"
     },
     "output_type": "display_data"
    }
   ],
   "source": [
    "x= df['MaxHourPr_Tokyo'].values  #DataFrameの指定列を1次元numpy配列xに変換\n",
    "y= df['MaxHourPr_Maebashi'].values\n",
    "\n",
    "plt.hist([x,y], histtype='step',label=['Tokyo','Maebashi'])\n",
    "plt.legend(loc='upper right')\n",
    "\n",
    "N1=len(x)\n",
    "N2=len(y)"
   ]
  },
  {
   "cell_type": "code",
   "execution_count": 4,
   "metadata": {},
   "outputs": [],
   "source": [
    "#統計量S2xyの実現値\n",
    "s2xy=0 \n",
    "for i in range(N1):\n",
    "    s2xy += (x[i]-np.mean(x))**2\n",
    "for i in range(N2):\n",
    "    s2xy += (y[i]-np.mean(y))**2\n",
    "s2xy /= N1+N2-2"
   ]
  },
  {
   "cell_type": "code",
   "execution_count": 5,
   "metadata": {},
   "outputs": [
    {
     "data": {
      "text/plain": [
       "-1.03239416740944"
      ]
     },
     "execution_count": 5,
     "metadata": {},
     "output_type": "execute_result"
    }
   ],
   "source": [
    "#統計量Tの実現値\n",
    "tau= (np.mean(x)-np.mean(y))/((1/N1+1/N2)*s2xy)**0.5\n",
    "tau"
   ]
  },
  {
   "cell_type": "code",
   "execution_count": 6,
   "metadata": {},
   "outputs": [
    {
     "name": "stdout",
     "output_type": "stream",
     "text": [
      "p val = 1.5182e-01\n"
     ]
    }
   ],
   "source": [
    "## t分布の数値積分によるp値の算出\n",
    "v= N1+N2-2 # t分布の自由度\n",
    "k= 1/(v*math.pi)**0.5*math.gamma((v+1)/2)/math.gamma(v/2) #規格化定数の厳密な式\n",
    "\n",
    "#積分区間\n",
    "a= -25 #下限\n",
    "b= 25 # 上限\n",
    "\n",
    "ndiv= 100000; #分割区間数\n",
    "if tau >= 0:\n",
    "    high= b\n",
    "    low= tau\n",
    "else:\n",
    "    high= tau\n",
    "    low= a\n",
    "dt= (high-low)/ndiv\n",
    "\n",
    "sum= 0\n",
    "t= low\n",
    "for i in range(ndiv):\n",
    "    sum += k*(1+t**2/v)**(-(v+1)/2)*dt  # 短冊の和。\n",
    "    t += dt  # x座標の更新\n",
    "p=sum #片側検定なのでそのまま\n",
    "print(\"p val = {:.4e}\".format(p))"
   ]
  },
  {
   "cell_type": "code",
   "execution_count": null,
   "metadata": {},
   "outputs": [],
   "source": []
  }
 ],
 "metadata": {
  "kernelspec": {
   "display_name": "Python 3",
   "language": "python",
   "name": "python3"
  },
  "language_info": {
   "codemirror_mode": {
    "name": "ipython",
    "version": 3
   },
   "file_extension": ".py",
   "mimetype": "text/x-python",
   "name": "python",
   "nbconvert_exporter": "python",
   "pygments_lexer": "ipython3",
   "version": "3.8.5"
  }
 },
 "nbformat": 4,
 "nbformat_minor": 4
}
