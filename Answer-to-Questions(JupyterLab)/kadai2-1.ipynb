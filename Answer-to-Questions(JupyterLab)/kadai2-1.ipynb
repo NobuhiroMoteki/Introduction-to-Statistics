{
 "cells": [
  {
   "cell_type": "markdown",
   "metadata": {},
   "source": [
    "## 課題2-1 回答例"
   ]
  },
  {
   "cell_type": "code",
   "execution_count": 2,
   "metadata": {},
   "outputs": [],
   "source": [
    "import math\n",
    "import numpy as np\n",
    "from scipy import stats"
   ]
  },
  {
   "cell_type": "code",
   "execution_count": 3,
   "metadata": {},
   "outputs": [
    {
     "name": "stdout",
     "output_type": "stream",
     "text": [
      "tau_l, tau_u  = -2.0855,2.0855\n"
     ]
    }
   ],
   "source": [
    "v= 20 \n",
    "k= 1/(v*math.pi)**0.5*math.gamma((v+1)/2)/math.gamma(v/2) #規格化定数の厳密な式\n",
    "\n",
    "alpha =0.05\n",
    "\n",
    "#積分区間\n",
    "a= -25  # 下限\n",
    "b= 25 # 上限\n",
    "\n",
    "n= 100000; #分割区間数\n",
    "\n",
    "dx= (b-a)/n\n",
    "\n",
    "sum= 0\n",
    "x= a\n",
    "for i in range(n):\n",
    "    sum += k*(1+x**2/v)**(-(v+1)/2)*dx  # 短冊の和。\n",
    "    x += dx  # x座標の更新\n",
    "    if sum > alpha/2: #両側境界なので片側の積分はalphaの半分\n",
    "        break\n",
    "\n",
    "print(\"tau_l, tau_u  = {:.4f},{:.4f}\".format(x,-x)) #偶関数なのでtau_u = -tau_l"
   ]
  },
  {
   "cell_type": "code",
   "execution_count": 4,
   "metadata": {},
   "outputs": [
    {
     "data": {
      "text/plain": [
       "-2.085963447265837"
      ]
     },
     "execution_count": 4,
     "metadata": {},
     "output_type": "execute_result"
    }
   ],
   "source": [
    "#scipy stat で答え合わせ\n",
    "\n",
    "stats.t.ppf(q=alpha/2,df=v)"
   ]
  },
  {
   "cell_type": "code",
   "execution_count": null,
   "metadata": {},
   "outputs": [],
   "source": []
  }
 ],
 "metadata": {
  "kernelspec": {
   "display_name": "Python 3",
   "language": "python",
   "name": "python3"
  },
  "language_info": {
   "codemirror_mode": {
    "name": "ipython",
    "version": 3
   },
   "file_extension": ".py",
   "mimetype": "text/x-python",
   "name": "python",
   "nbconvert_exporter": "python",
   "pygments_lexer": "ipython3",
   "version": "3.8.5"
  }
 },
 "nbformat": 4,
 "nbformat_minor": 4
}
